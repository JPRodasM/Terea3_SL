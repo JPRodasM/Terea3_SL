{
 "cells": [
  {
   "attachments": {},
   "cell_type": "markdown",
   "metadata": {},
   "source": [
    "# Tarea 3\n",
    "Juan Pablo Rodas\n",
    "\n",
    "carnet 23007521"
   ]
  },
  {
   "cell_type": "code",
   "execution_count": 65,
   "metadata": {},
   "outputs": [],
   "source": [
    "import pandas as pd\n",
    "import numpy as np\n",
    "import matplotlib.pyplot as plt\n",
    "import mypreprocessors as mypp\n",
    "\n",
    "from sklearn.pipeline import Pipeline\n",
    "from sklearn.preprocessing import MinMaxScaler, Binarizer\n",
    "from sklearn.model_selection import train_test_split\n",
    "from sklearn.metrics import mean_squared_error, r2_score\n",
    "from sklearn.linear_model import Lasso\n",
    "\n",
    "from feature_engine.imputation import MeanMedianImputer, CategoricalImputer\n",
    "from feature_engine.encoding import OrdinalEncoder, RareLabelEncoder, CountFrequencyEncoder\n",
    "from feature_engine.transformation import LogTransformer\n",
    "from feature_engine.selection import DropFeatures"
   ]
  },
  {
   "attachments": {},
   "cell_type": "markdown",
   "metadata": {},
   "source": [
    "## Cargamos Datos"
   ]
  },
  {
   "cell_type": "code",
   "execution_count": 3,
   "metadata": {},
   "outputs": [
    {
     "data": {
      "text/html": [
       "<div>\n",
       "<style scoped>\n",
       "    .dataframe tbody tr th:only-of-type {\n",
       "        vertical-align: middle;\n",
       "    }\n",
       "\n",
       "    .dataframe tbody tr th {\n",
       "        vertical-align: top;\n",
       "    }\n",
       "\n",
       "    .dataframe thead th {\n",
       "        text-align: right;\n",
       "    }\n",
       "</style>\n",
       "<table border=\"1\" class=\"dataframe\">\n",
       "  <thead>\n",
       "    <tr style=\"text-align: right;\">\n",
       "      <th></th>\n",
       "      <th>id</th>\n",
       "      <th>longitude</th>\n",
       "      <th>latitude</th>\n",
       "      <th>housing_median_age</th>\n",
       "      <th>total_rooms</th>\n",
       "      <th>total_bedrooms</th>\n",
       "      <th>population</th>\n",
       "      <th>households</th>\n",
       "      <th>median_income</th>\n",
       "      <th>median_house_value</th>\n",
       "      <th>ocean_proximity</th>\n",
       "    </tr>\n",
       "  </thead>\n",
       "  <tbody>\n",
       "    <tr>\n",
       "      <th>0</th>\n",
       "      <td>9744</td>\n",
       "      <td>-121.65</td>\n",
       "      <td>36.77</td>\n",
       "      <td>15</td>\n",
       "      <td>2191</td>\n",
       "      <td>358.0</td>\n",
       "      <td>1150</td>\n",
       "      <td>330</td>\n",
       "      <td>4.7969</td>\n",
       "      <td>227500.0</td>\n",
       "      <td>&lt;1H OCEAN</td>\n",
       "    </tr>\n",
       "    <tr>\n",
       "      <th>1</th>\n",
       "      <td>13893</td>\n",
       "      <td>-116.27</td>\n",
       "      <td>34.13</td>\n",
       "      <td>37</td>\n",
       "      <td>452</td>\n",
       "      <td>109.0</td>\n",
       "      <td>184</td>\n",
       "      <td>59</td>\n",
       "      <td>3.7292</td>\n",
       "      <td>65800.0</td>\n",
       "      <td>INLAND</td>\n",
       "    </tr>\n",
       "    <tr>\n",
       "      <th>2</th>\n",
       "      <td>18277</td>\n",
       "      <td>-122.07</td>\n",
       "      <td>37.34</td>\n",
       "      <td>35</td>\n",
       "      <td>1172</td>\n",
       "      <td>184.0</td>\n",
       "      <td>512</td>\n",
       "      <td>175</td>\n",
       "      <td>7.3561</td>\n",
       "      <td>500001.0</td>\n",
       "      <td>&lt;1H OCEAN</td>\n",
       "    </tr>\n",
       "    <tr>\n",
       "      <th>3</th>\n",
       "      <td>16176</td>\n",
       "      <td>-122.39</td>\n",
       "      <td>37.74</td>\n",
       "      <td>52</td>\n",
       "      <td>126</td>\n",
       "      <td>24.0</td>\n",
       "      <td>37</td>\n",
       "      <td>27</td>\n",
       "      <td>10.2264</td>\n",
       "      <td>225000.0</td>\n",
       "      <td>NEAR BAY</td>\n",
       "    </tr>\n",
       "    <tr>\n",
       "      <th>4</th>\n",
       "      <td>8843</td>\n",
       "      <td>-118.38</td>\n",
       "      <td>34.09</td>\n",
       "      <td>28</td>\n",
       "      <td>4001</td>\n",
       "      <td>1352.0</td>\n",
       "      <td>1799</td>\n",
       "      <td>1220</td>\n",
       "      <td>2.5784</td>\n",
       "      <td>272900.0</td>\n",
       "      <td>&lt;1H OCEAN</td>\n",
       "    </tr>\n",
       "  </tbody>\n",
       "</table>\n",
       "</div>"
      ],
      "text/plain": [
       "      id  longitude  latitude  housing_median_age  total_rooms  \\\n",
       "0   9744    -121.65     36.77                  15         2191   \n",
       "1  13893    -116.27     34.13                  37          452   \n",
       "2  18277    -122.07     37.34                  35         1172   \n",
       "3  16176    -122.39     37.74                  52          126   \n",
       "4   8843    -118.38     34.09                  28         4001   \n",
       "\n",
       "   total_bedrooms  population  households  median_income  median_house_value  \\\n",
       "0           358.0        1150         330         4.7969            227500.0   \n",
       "1           109.0         184          59         3.7292             65800.0   \n",
       "2           184.0         512         175         7.3561            500001.0   \n",
       "3            24.0          37          27        10.2264            225000.0   \n",
       "4          1352.0        1799        1220         2.5784            272900.0   \n",
       "\n",
       "  ocean_proximity  \n",
       "0       <1H OCEAN  \n",
       "1          INLAND  \n",
       "2       <1H OCEAN  \n",
       "3        NEAR BAY  \n",
       "4       <1H OCEAN  "
      ]
     },
     "execution_count": 3,
     "metadata": {},
     "output_type": "execute_result"
    }
   ],
   "source": [
    "dataTrain = pd.read_csv('train.csv')\n",
    "dataTrain.head()"
   ]
  },
  {
   "attachments": {},
   "cell_type": "markdown",
   "metadata": {},
   "source": [
    "## 1) Columnas que posee faltantes o nulos"
   ]
  },
  {
   "cell_type": "code",
   "execution_count": 4,
   "metadata": {},
   "outputs": [
    {
     "data": {
      "text/plain": [
       "['total_bedrooms']"
      ]
     },
     "execution_count": 4,
     "metadata": {},
     "output_type": "execute_result"
    }
   ],
   "source": [
    "cols_con_null = [col for col in dataTrain.columns if (dataTrain[col].isnull().mean() > 0)]\n",
    "cols_con_null"
   ]
  },
  {
   "cell_type": "code",
   "execution_count": 5,
   "metadata": {},
   "outputs": [
    {
     "data": {
      "text/plain": [
       "['total_bedrooms']"
      ]
     },
     "execution_count": 5,
     "metadata": {},
     "output_type": "execute_result"
    }
   ],
   "source": [
    "cols_con_na = [col for col in dataTrain.columns if (dataTrain[col].isna().mean() > 0)]\n",
    "cols_con_na"
   ]
  },
  {
   "attachments": {},
   "cell_type": "markdown",
   "metadata": {},
   "source": [
    "## 2) Proporcion de faltantes para cada columna con faltantes"
   ]
  },
  {
   "cell_type": "code",
   "execution_count": 14,
   "metadata": {},
   "outputs": [
    {
     "data": {
      "text/plain": [
       "total_bedrooms    0.009483\n",
       "dtype: float64"
      ]
     },
     "execution_count": 14,
     "metadata": {},
     "output_type": "execute_result"
    }
   ],
   "source": [
    "prop_null = dataTrain[cols_con_na].isnull().mean()\n",
    "prop_null"
   ]
  },
  {
   "cell_type": "code",
   "execution_count": 15,
   "metadata": {},
   "outputs": [
    {
     "data": {
      "text/plain": [
       "<BarContainer object of 1 artists>"
      ]
     },
     "execution_count": 15,
     "metadata": {},
     "output_type": "execute_result"
    },
    {
     "data": {
      "image/png": "[encoded data removed]",
      "text/plain": [
       "<Figure size 640x480 with 1 Axes>"
      ]
     },
     "metadata": {},
     "output_type": "display_data"
    }
   ],
   "source": [
    "plt.bar(cols_con_na,prop_null)"
   ]
  },
  {
   "attachments": {},
   "cell_type": "markdown",
   "metadata": {},
   "source": [
    "## 3) Imputacion"
   ]
  },
  {
   "cell_type": "code",
   "execution_count": 24,
   "metadata": {},
   "outputs": [
    {
     "data": {
      "text/plain": [
       "<AxesSubplot:>"
      ]
     },
     "execution_count": 24,
     "metadata": {},
     "output_type": "execute_result"
    },
    {
     "data": {
      "image/png": "[encoded data removed]",
      "text/plain": [
       "<Figure size 640x480 with 1 Axes>"
      ]
     },
     "metadata": {},
     "output_type": "display_data"
    }
   ],
   "source": [
    "dataTrain['total_bedrooms'].hist(bins=50, density=True, color='blue', alpha=0.5)"
   ]
  },
  {
   "attachments": {},
   "cell_type": "markdown",
   "metadata": {},
   "source": [
    "se puede aplicar una imputacion por media debnido a que no distorcionaria la forma de la grafica y son menos del 0.9% de los datos"
   ]
  },
  {
   "attachments": {},
   "cell_type": "markdown",
   "metadata": {},
   "source": [
    "## 4) Imputacion de variables categoricas"
   ]
  },
  {
   "attachments": {},
   "cell_type": "markdown",
   "metadata": {},
   "source": [
    "no hay variables categoricas que deban ser imputadas"
   ]
  },
  {
   "attachments": {},
   "cell_type": "markdown",
   "metadata": {},
   "source": [
    "## 5) Codificacion de variables categoricas"
   ]
  },
  {
   "cell_type": "code",
   "execution_count": 25,
   "metadata": {},
   "outputs": [],
   "source": [
    "def getColumnTypes(dataset):\n",
    "  '''\n",
    "  Descripcion: Esta funcion extrae el tipo de dominio de las columnas de un dataset\n",
    "  Entrada: Pandas Dataframe\n",
    "  Salida: Tupla con arreglo que contiene nombres de las columnas\n",
    "  '''\n",
    "  continuas = []\n",
    "  discretas = []\n",
    "  categoricas = []\n",
    "  for col in dataset.columns:\n",
    "    if((dataset[col].dtype=='int') or (dataset[col].dtype=='float') or (dataset[col].dtype=='int64')):\n",
    "      if((len(dataset[col].unique())>30)):\n",
    "        continuas.append(col)\n",
    "      else:\n",
    "        discretas.append(col)\n",
    "    else:\n",
    "      categoricas.append(col)\n",
    "\n",
    "  return continuas, discretas, categoricas"
   ]
  },
  {
   "cell_type": "code",
   "execution_count": 27,
   "metadata": {},
   "outputs": [
    {
     "data": {
      "text/plain": [
       "['ocean_proximity']"
      ]
     },
     "execution_count": 27,
     "metadata": {},
     "output_type": "execute_result"
    }
   ],
   "source": [
    "continuas, discretas, categoricas = getColumnTypes(dataTrain)\n",
    "categoricas"
   ]
  },
  {
   "cell_type": "code",
   "execution_count": 29,
   "metadata": {},
   "outputs": [
    {
     "data": {
      "text/plain": [
       "<1H OCEAN     6384\n",
       "INLAND        4577\n",
       "NEAR OCEAN    1865\n",
       "NEAR BAY      1619\n",
       "ISLAND           2\n",
       "Name: ocean_proximity, dtype: int64"
      ]
     },
     "execution_count": 29,
     "metadata": {},
     "output_type": "execute_result"
    }
   ],
   "source": [
    "dataTrain['ocean_proximity'].value_counts().sort_values(ascending=False)"
   ]
  },
  {
   "attachments": {},
   "cell_type": "markdown",
   "metadata": {},
   "source": [
    "Evaluando los valores que tiene la columna de ocean_proximity se puede aplicar un frequency encoding debido a que todas las frecuencas son distintas y seria lo mas sencillo y no se obtendria ningun beneficio si se hiciera por OHE o por label encoding"
   ]
  },
  {
   "attachments": {},
   "cell_type": "markdown",
   "metadata": {},
   "source": [
    "## 6) Scaler"
   ]
  },
  {
   "cell_type": "code",
   "execution_count": 113,
   "metadata": {},
   "outputs": [
    {
     "data": {
      "text/html": [
       "<div>\n",
       "<style scoped>\n",
       "    .dataframe tbody tr th:only-of-type {\n",
       "        vertical-align: middle;\n",
       "    }\n",
       "\n",
       "    .dataframe tbody tr th {\n",
       "        vertical-align: top;\n",
       "    }\n",
       "\n",
       "    .dataframe thead th {\n",
       "        text-align: right;\n",
       "    }\n",
       "</style>\n",
       "<table border=\"1\" class=\"dataframe\">\n",
       "  <thead>\n",
       "    <tr style=\"text-align: right;\">\n",
       "      <th></th>\n",
       "      <th>id</th>\n",
       "      <th>longitude</th>\n",
       "      <th>latitude</th>\n",
       "      <th>housing_median_age</th>\n",
       "      <th>total_rooms</th>\n",
       "      <th>total_bedrooms</th>\n",
       "      <th>population</th>\n",
       "      <th>households</th>\n",
       "      <th>median_income</th>\n",
       "      <th>median_house_value</th>\n",
       "    </tr>\n",
       "  </thead>\n",
       "  <tbody>\n",
       "    <tr>\n",
       "      <th>count</th>\n",
       "      <td>14447.000000</td>\n",
       "      <td>14447.000000</td>\n",
       "      <td>14447.000000</td>\n",
       "      <td>14447.000000</td>\n",
       "      <td>14447.000000</td>\n",
       "      <td>14310.000000</td>\n",
       "      <td>14447.000000</td>\n",
       "      <td>14447.000000</td>\n",
       "      <td>14447.000000</td>\n",
       "      <td>14447.000000</td>\n",
       "    </tr>\n",
       "    <tr>\n",
       "      <th>mean</th>\n",
       "      <td>10275.451997</td>\n",
       "      <td>-119.580422</td>\n",
       "      <td>35.642011</td>\n",
       "      <td>28.845435</td>\n",
       "      <td>2635.287534</td>\n",
       "      <td>537.778756</td>\n",
       "      <td>1425.171454</td>\n",
       "      <td>500.116772</td>\n",
       "      <td>3.863949</td>\n",
       "      <td>206873.687824</td>\n",
       "    </tr>\n",
       "    <tr>\n",
       "      <th>std</th>\n",
       "      <td>5957.136373</td>\n",
       "      <td>2.003511</td>\n",
       "      <td>2.135526</td>\n",
       "      <td>12.585221</td>\n",
       "      <td>2215.285809</td>\n",
       "      <td>424.012399</td>\n",
       "      <td>1123.733449</td>\n",
       "      <td>386.181946</td>\n",
       "      <td>1.892919</td>\n",
       "      <td>115263.889710</td>\n",
       "    </tr>\n",
       "    <tr>\n",
       "      <th>min</th>\n",
       "      <td>1.000000</td>\n",
       "      <td>-124.300000</td>\n",
       "      <td>32.540000</td>\n",
       "      <td>1.000000</td>\n",
       "      <td>2.000000</td>\n",
       "      <td>1.000000</td>\n",
       "      <td>6.000000</td>\n",
       "      <td>1.000000</td>\n",
       "      <td>0.499900</td>\n",
       "      <td>14999.000000</td>\n",
       "    </tr>\n",
       "    <tr>\n",
       "      <th>25%</th>\n",
       "      <td>5139.500000</td>\n",
       "      <td>-121.805000</td>\n",
       "      <td>33.930000</td>\n",
       "      <td>18.000000</td>\n",
       "      <td>1444.000000</td>\n",
       "      <td>295.000000</td>\n",
       "      <td>786.000000</td>\n",
       "      <td>280.000000</td>\n",
       "      <td>2.567150</td>\n",
       "      <td>119600.000000</td>\n",
       "    </tr>\n",
       "    <tr>\n",
       "      <th>50%</th>\n",
       "      <td>10210.000000</td>\n",
       "      <td>-118.500000</td>\n",
       "      <td>34.260000</td>\n",
       "      <td>29.000000</td>\n",
       "      <td>2121.000000</td>\n",
       "      <td>433.000000</td>\n",
       "      <td>1163.000000</td>\n",
       "      <td>408.000000</td>\n",
       "      <td>3.535000</td>\n",
       "      <td>179700.000000</td>\n",
       "    </tr>\n",
       "    <tr>\n",
       "      <th>75%</th>\n",
       "      <td>15449.000000</td>\n",
       "      <td>-118.020000</td>\n",
       "      <td>37.720000</td>\n",
       "      <td>37.000000</td>\n",
       "      <td>3137.500000</td>\n",
       "      <td>647.000000</td>\n",
       "      <td>1722.000000</td>\n",
       "      <td>604.500000</td>\n",
       "      <td>4.722850</td>\n",
       "      <td>264600.000000</td>\n",
       "    </tr>\n",
       "    <tr>\n",
       "      <th>max</th>\n",
       "      <td>20640.000000</td>\n",
       "      <td>-114.310000</td>\n",
       "      <td>41.950000</td>\n",
       "      <td>52.000000</td>\n",
       "      <td>39320.000000</td>\n",
       "      <td>6445.000000</td>\n",
       "      <td>28566.000000</td>\n",
       "      <td>6082.000000</td>\n",
       "      <td>15.000100</td>\n",
       "      <td>500001.000000</td>\n",
       "    </tr>\n",
       "  </tbody>\n",
       "</table>\n",
       "</div>"
      ],
      "text/plain": [
       "                 id     longitude      latitude  housing_median_age  \\\n",
       "count  14447.000000  14447.000000  14447.000000        14447.000000   \n",
       "mean   10275.451997   -119.580422     35.642011           28.845435   \n",
       "std     5957.136373      2.003511      2.135526           12.585221   \n",
       "min        1.000000   -124.300000     32.540000            1.000000   \n",
       "25%     5139.500000   -121.805000     33.930000           18.000000   \n",
       "50%    10210.000000   -118.500000     34.260000           29.000000   \n",
       "75%    15449.000000   -118.020000     37.720000           37.000000   \n",
       "max    20640.000000   -114.310000     41.950000           52.000000   \n",
       "\n",
       "        total_rooms  total_bedrooms    population    households  \\\n",
       "count  14447.000000    14310.000000  14447.000000  14447.000000   \n",
       "mean    2635.287534      537.778756   1425.171454    500.116772   \n",
       "std     2215.285809      424.012399   1123.733449    386.181946   \n",
       "min        2.000000        1.000000      6.000000      1.000000   \n",
       "25%     1444.000000      295.000000    786.000000    280.000000   \n",
       "50%     2121.000000      433.000000   1163.000000    408.000000   \n",
       "75%     3137.500000      647.000000   1722.000000    604.500000   \n",
       "max    39320.000000     6445.000000  28566.000000   6082.000000   \n",
       "\n",
       "       median_income  median_house_value  \n",
       "count   14447.000000        14447.000000  \n",
       "mean        3.863949       206873.687824  \n",
       "std         1.892919       115263.889710  \n",
       "min         0.499900        14999.000000  \n",
       "25%         2.567150       119600.000000  \n",
       "50%         3.535000       179700.000000  \n",
       "75%         4.722850       264600.000000  \n",
       "max        15.000100       500001.000000  "
      ]
     },
     "execution_count": 113,
     "metadata": {},
     "output_type": "execute_result"
    }
   ],
   "source": [
    "dataTrain.describe()"
   ]
  },
  {
   "attachments": {},
   "cell_type": "markdown",
   "metadata": {},
   "source": [
    "Si es necesario aplicar un scaler ya que todas las variables se encuentran en escalas distintas"
   ]
  },
  {
   "attachments": {},
   "cell_type": "markdown",
   "metadata": {},
   "source": [
    "## 7) Pipiline y SMSE"
   ]
  },
  {
   "attachments": {},
   "cell_type": "markdown",
   "metadata": {},
   "source": [
    "### - Pipeline"
   ]
  },
  {
   "cell_type": "code",
   "execution_count": 103,
   "metadata": {},
   "outputs": [],
   "source": [
    "DataPipeline = Pipeline([\n",
    "    # Imputaciones\n",
    "    ('mean_imputation', \n",
    "        MeanMedianImputer(imputation_method='mean', variables=cols_con_na)),\n",
    "\n",
    "    #Codificacion de variables categoricas\n",
    "    ('categorical_encoder', \n",
    "        CountFrequencyEncoder(encoding_method='count', variables=categoricas)),\n",
    "\n",
    "    #Feature Scaling\n",
    "    ('scaler',\n",
    "        MinMaxScaler()),\n",
    "\n",
    "    ('modelo_lasso', \n",
    "         Lasso(alpha=0.01, random_state=2023)\n",
    "    )\n",
    "])"
   ]
  },
  {
   "cell_type": "code",
   "execution_count": 100,
   "metadata": {},
   "outputs": [],
   "source": [
    "X_train = dataTrain.drop(['id','median_house_value'], axis=1)\n",
    "y_train = dataTrain['median_house_value']"
   ]
  },
  {
   "cell_type": "code",
   "execution_count": 105,
   "metadata": {},
   "outputs": [
    {
     "data": {
      "text/plain": [
       "Pipeline(steps=[('mean_imputation',\n",
       "                 MeanMedianImputer(imputation_method='mean',\n",
       "                                   variables=['total_bedrooms'])),\n",
       "                ('categorical_encoder',\n",
       "                 CountFrequencyEncoder(variables=['ocean_proximity'])),\n",
       "                ('scaler', MinMaxScaler()),\n",
       "                ('modelo_lasso', Lasso(alpha=0.01, random_state=2023))])"
      ]
     },
     "execution_count": 105,
     "metadata": {},
     "output_type": "execute_result"
    }
   ],
   "source": [
    "DataPipeline.fit(X_train,y_train)\n"
   ]
  },
  {
   "attachments": {},
   "cell_type": "markdown",
   "metadata": {},
   "source": [
    "### - RMSE"
   ]
  },
  {
   "cell_type": "code",
   "execution_count": 106,
   "metadata": {},
   "outputs": [],
   "source": [
    "preds = DataPipeline.predict(X_train)"
   ]
  },
  {
   "cell_type": "code",
   "execution_count": 107,
   "metadata": {},
   "outputs": [
    {
     "data": {
      "text/plain": [
       "68815.80805161363"
      ]
     },
     "execution_count": 107,
     "metadata": {},
     "output_type": "execute_result"
    }
   ],
   "source": [
    "rmseTest = np.sqrt(mean_squared_error(y_train, preds))\n",
    "rmseTest"
   ]
  },
  {
   "cell_type": "code",
   "execution_count": 111,
   "metadata": {},
   "outputs": [
    {
     "data": {
      "text/plain": [
       "(14999.0, 500001.0)"
      ]
     },
     "execution_count": 111,
     "metadata": {},
     "output_type": "execute_result"
    }
   ],
   "source": [
    "np.min((y_train)), np.max((y_train))"
   ]
  },
  {
   "cell_type": "code",
   "execution_count": 124,
   "metadata": {},
   "outputs": [
    {
     "data": {
      "text/plain": [
       "0.142"
      ]
     },
     "execution_count": 124,
     "metadata": {},
     "output_type": "execute_result"
    }
   ],
   "source": [
    "round(rmseTest /(np.max((y_train))-np.min((y_train))),3)"
   ]
  },
  {
   "attachments": {},
   "cell_type": "markdown",
   "metadata": {},
   "source": [
    "## 8) Dataset Transformado"
   ]
  },
  {
   "cell_type": "code",
   "execution_count": 140,
   "metadata": {},
   "outputs": [],
   "source": [
    "DataPipelineTransform = Pipeline([\n",
    "    # Imputaciones\n",
    "    ('mean_imputation', \n",
    "        MeanMedianImputer(imputation_method='mean', variables=cols_con_na)),\n",
    "\n",
    "    #Codificacion de variables categoricas\n",
    "    ('categorical_encoder', \n",
    "        CountFrequencyEncoder(encoding_method='count', variables=categoricas)),\n",
    "\n",
    "    #Feature Scaling\n",
    "    ('scaler',\n",
    "        MinMaxScaler())\n",
    "])"
   ]
  },
  {
   "cell_type": "code",
   "execution_count": 141,
   "metadata": {},
   "outputs": [
    {
     "data": {
      "text/plain": [
       "Pipeline(steps=[('mean_imputation',\n",
       "                 MeanMedianImputer(imputation_method='mean',\n",
       "                                   variables=['total_bedrooms'])),\n",
       "                ('categorical_encoder',\n",
       "                 CountFrequencyEncoder(variables=['ocean_proximity'])),\n",
       "                ('scaler', MinMaxScaler())])"
      ]
     },
     "execution_count": 141,
     "metadata": {},
     "output_type": "execute_result"
    }
   ],
   "source": [
    "DataPipelineTransform.fit(X_train,y_train)"
   ]
  },
  {
   "cell_type": "code",
   "execution_count": 142,
   "metadata": {},
   "outputs": [
    {
     "data": {
      "text/html": [
       "<div>\n",
       "<style scoped>\n",
       "    .dataframe tbody tr th:only-of-type {\n",
       "        vertical-align: middle;\n",
       "    }\n",
       "\n",
       "    .dataframe tbody tr th {\n",
       "        vertical-align: top;\n",
       "    }\n",
       "\n",
       "    .dataframe thead th {\n",
       "        text-align: right;\n",
       "    }\n",
       "</style>\n",
       "<table border=\"1\" class=\"dataframe\">\n",
       "  <thead>\n",
       "    <tr style=\"text-align: right;\">\n",
       "      <th></th>\n",
       "      <th>longitude</th>\n",
       "      <th>latitude</th>\n",
       "      <th>housing_median_age</th>\n",
       "      <th>total_rooms</th>\n",
       "      <th>total_bedrooms</th>\n",
       "      <th>population</th>\n",
       "      <th>households</th>\n",
       "      <th>median_income</th>\n",
       "      <th>ocean_proximity</th>\n",
       "    </tr>\n",
       "  </thead>\n",
       "  <tbody>\n",
       "    <tr>\n",
       "      <th>0</th>\n",
       "      <td>0.265265</td>\n",
       "      <td>0.449522</td>\n",
       "      <td>0.274510</td>\n",
       "      <td>0.055674</td>\n",
       "      <td>0.055400</td>\n",
       "      <td>0.040056</td>\n",
       "      <td>0.054103</td>\n",
       "      <td>0.296341</td>\n",
       "      <td>1.000000</td>\n",
       "    </tr>\n",
       "    <tr>\n",
       "      <th>1</th>\n",
       "      <td>0.803804</td>\n",
       "      <td>0.168969</td>\n",
       "      <td>0.705882</td>\n",
       "      <td>0.011445</td>\n",
       "      <td>0.016760</td>\n",
       "      <td>0.006232</td>\n",
       "      <td>0.009538</td>\n",
       "      <td>0.222707</td>\n",
       "      <td>0.716860</td>\n",
       "    </tr>\n",
       "    <tr>\n",
       "      <th>2</th>\n",
       "      <td>0.223223</td>\n",
       "      <td>0.510096</td>\n",
       "      <td>0.666667</td>\n",
       "      <td>0.029757</td>\n",
       "      <td>0.028399</td>\n",
       "      <td>0.017717</td>\n",
       "      <td>0.028614</td>\n",
       "      <td>0.472835</td>\n",
       "      <td>1.000000</td>\n",
       "    </tr>\n",
       "    <tr>\n",
       "      <th>3</th>\n",
       "      <td>0.191191</td>\n",
       "      <td>0.552604</td>\n",
       "      <td>1.000000</td>\n",
       "      <td>0.003154</td>\n",
       "      <td>0.003569</td>\n",
       "      <td>0.001085</td>\n",
       "      <td>0.004276</td>\n",
       "      <td>0.670784</td>\n",
       "      <td>0.253369</td>\n",
       "    </tr>\n",
       "    <tr>\n",
       "      <th>4</th>\n",
       "      <td>0.592593</td>\n",
       "      <td>0.164718</td>\n",
       "      <td>0.529412</td>\n",
       "      <td>0.101709</td>\n",
       "      <td>0.209652</td>\n",
       "      <td>0.062780</td>\n",
       "      <td>0.200460</td>\n",
       "      <td>0.143343</td>\n",
       "      <td>1.000000</td>\n",
       "    </tr>\n",
       "    <tr>\n",
       "      <th>...</th>\n",
       "      <td>...</td>\n",
       "      <td>...</td>\n",
       "      <td>...</td>\n",
       "      <td>...</td>\n",
       "      <td>...</td>\n",
       "      <td>...</td>\n",
       "      <td>...</td>\n",
       "      <td>...</td>\n",
       "      <td>...</td>\n",
       "    </tr>\n",
       "    <tr>\n",
       "      <th>14442</th>\n",
       "      <td>0.205205</td>\n",
       "      <td>0.555792</td>\n",
       "      <td>0.823529</td>\n",
       "      <td>0.110051</td>\n",
       "      <td>0.172098</td>\n",
       "      <td>0.072829</td>\n",
       "      <td>0.172998</td>\n",
       "      <td>0.170694</td>\n",
       "      <td>0.253369</td>\n",
       "    </tr>\n",
       "    <tr>\n",
       "      <th>14443</th>\n",
       "      <td>0.182182</td>\n",
       "      <td>0.549416</td>\n",
       "      <td>0.823529</td>\n",
       "      <td>0.097869</td>\n",
       "      <td>0.157821</td>\n",
       "      <td>0.052206</td>\n",
       "      <td>0.136162</td>\n",
       "      <td>0.208942</td>\n",
       "      <td>0.291915</td>\n",
       "    </tr>\n",
       "    <tr>\n",
       "      <th>14444</th>\n",
       "      <td>0.613614</td>\n",
       "      <td>0.228480</td>\n",
       "      <td>0.215686</td>\n",
       "      <td>0.124091</td>\n",
       "      <td>0.124457</td>\n",
       "      <td>0.076401</td>\n",
       "      <td>0.118895</td>\n",
       "      <td>0.252879</td>\n",
       "      <td>0.716860</td>\n",
       "    </tr>\n",
       "    <tr>\n",
       "      <th>14445</th>\n",
       "      <td>0.286286</td>\n",
       "      <td>0.630181</td>\n",
       "      <td>0.078431</td>\n",
       "      <td>0.144056</td>\n",
       "      <td>0.182651</td>\n",
       "      <td>0.109699</td>\n",
       "      <td>0.185825</td>\n",
       "      <td>0.197301</td>\n",
       "      <td>0.716860</td>\n",
       "    </tr>\n",
       "    <tr>\n",
       "      <th>14446</th>\n",
       "      <td>0.632633</td>\n",
       "      <td>0.127524</td>\n",
       "      <td>0.549020</td>\n",
       "      <td>0.087517</td>\n",
       "      <td>0.098386</td>\n",
       "      <td>0.078817</td>\n",
       "      <td>0.101792</td>\n",
       "      <td>0.292444</td>\n",
       "      <td>1.000000</td>\n",
       "    </tr>\n",
       "  </tbody>\n",
       "</table>\n",
       "<p>14447 rows × 9 columns</p>\n",
       "</div>"
      ],
      "text/plain": [
       "       longitude  latitude  housing_median_age  total_rooms  total_bedrooms  \\\n",
       "0       0.265265  0.449522            0.274510     0.055674        0.055400   \n",
       "1       0.803804  0.168969            0.705882     0.011445        0.016760   \n",
       "2       0.223223  0.510096            0.666667     0.029757        0.028399   \n",
       "3       0.191191  0.552604            1.000000     0.003154        0.003569   \n",
       "4       0.592593  0.164718            0.529412     0.101709        0.209652   \n",
       "...          ...       ...                 ...          ...             ...   \n",
       "14442   0.205205  0.555792            0.823529     0.110051        0.172098   \n",
       "14443   0.182182  0.549416            0.823529     0.097869        0.157821   \n",
       "14444   0.613614  0.228480            0.215686     0.124091        0.124457   \n",
       "14445   0.286286  0.630181            0.078431     0.144056        0.182651   \n",
       "14446   0.632633  0.127524            0.549020     0.087517        0.098386   \n",
       "\n",
       "       population  households  median_income  ocean_proximity  \n",
       "0        0.040056    0.054103       0.296341         1.000000  \n",
       "1        0.006232    0.009538       0.222707         0.716860  \n",
       "2        0.017717    0.028614       0.472835         1.000000  \n",
       "3        0.001085    0.004276       0.670784         0.253369  \n",
       "4        0.062780    0.200460       0.143343         1.000000  \n",
       "...           ...         ...            ...              ...  \n",
       "14442    0.072829    0.172998       0.170694         0.253369  \n",
       "14443    0.052206    0.136162       0.208942         0.291915  \n",
       "14444    0.076401    0.118895       0.252879         0.716860  \n",
       "14445    0.109699    0.185825       0.197301         0.716860  \n",
       "14446    0.078817    0.101792       0.292444         1.000000  \n",
       "\n",
       "[14447 rows x 9 columns]"
      ]
     },
     "execution_count": 142,
     "metadata": {},
     "output_type": "execute_result"
    }
   ],
   "source": [
    "DataOut_X= pd.DataFrame(DataPipelineTransform.transform(X_train))\n",
    "DataOut_X.columns = X_train.columns\n",
    "DataOut_X"
   ]
  },
  {
   "attachments": {},
   "cell_type": "markdown",
   "metadata": {},
   "source": [
    "transformar el DataFrame a un CSV"
   ]
  },
  {
   "cell_type": "code",
   "execution_count": 143,
   "metadata": {},
   "outputs": [],
   "source": [
    "DataOut_X.to_csv(\"DataFrameTransformed.csv\")"
   ]
  }
 ],
 "metadata": {
  "kernelspec": {
   "display_name": "base",
   "language": "python",
   "name": "python3"
  },
  "language_info": {
   "codemirror_mode": {
    "name": "ipython",
    "version": 3
   },
   "file_extension": ".py",
   "mimetype": "text/x-python",
   "name": "python",
   "nbconvert_exporter": "python",
   "pygments_lexer": "ipython3",
   "version": "3.9.13"
  },
  "orig_nbformat": 4
 },
 "nbformat": 4,
 "nbformat_minor": 2
}
